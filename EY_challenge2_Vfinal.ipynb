{
 "cells": [
  {
   "cell_type": "code",
   "execution_count": null,
   "id": "d97f0d84-f00f-43c6-9ebf-afb305edce3f",
   "metadata": {},
   "outputs": [],
   "source": [
    "#loading the needed libraries \n",
    "import pandas as pd\n",
    "import numpy as np\n",
    "\n",
    "import matplotlib.pyplot as plt\n",
    "import seaborn as sns\n",
    "\n",
    "from lightgbm import LGBMRegressor\n",
    "\n",
    "from sklearn.ensemble import StackingRegressor\n",
    "from sklearn.metrics import r2_score\n",
    "from sklearn.model_selection import train_test_split"
   ]
  },
  {
   "cell_type": "code",
   "execution_count": null,
   "id": "3c1f7da9-4f58-408f-b6a1-ae9aaf7660fb",
   "metadata": {},
   "outputs": [],
   "source": [
    "#loading data\n",
    "data = pd.read_csv(\"./data/Crop_Yield_Data_challenge_2.csv\")\n",
    "data.head()"
   ]
  },
  {
   "cell_type": "code",
   "execution_count": null,
   "id": "842b9fbd-ad96-4664-a4a9-01bafae3e94f",
   "metadata": {},
   "outputs": [],
   "source": [
    "#getting features and target\n",
    "X = data.drop(columns=\"Rice Yield (kg/ha)\", axis=1)\n",
    "y = data[\"Rice Yield (kg/ha)\"].values"
   ]
  },
  {
   "cell_type": "code",
   "execution_count": null,
   "id": "ac4105e8-59ad-410b-a502-049b916796fa",
   "metadata": {},
   "outputs": [],
   "source": [
    "#getting the columns names. We are gonna use this for some transformations later\n",
    "X_col_names = list(X.columns)"
   ]
  },
  {
   "cell_type": "code",
   "execution_count": null,
   "id": "944a0d40-c2ed-41be-8d08-d952b2bda559",
   "metadata": {},
   "outputs": [],
   "source": [
    "#to avoid data leakage, we are gonna already split data in train and test before some transforms\n",
    "X_train, X_test, y_train, y_test = train_test_split(X, y, test_size=0.2, random_state=21)"
   ]
  },
  {
   "cell_type": "code",
   "execution_count": null,
   "id": "8b4722f3-5194-4da8-9520-58192583e6f8",
   "metadata": {},
   "outputs": [],
   "source": [
    "#converting the output from split in dataframe\n",
    "X_train = pd.DataFrame(X_train)\n",
    "X_train.columns = X_col_names\n",
    "\n",
    "X_test = pd.DataFrame(X_test)\n",
    "X_test.columns = X_col_names"
   ]
  },
  {
   "cell_type": "code",
   "execution_count": null,
   "id": "26d68a54-4e42-4fa8-bc7b-994d002dcab5",
   "metadata": {},
   "outputs": [],
   "source": [
    "#We will need the target feature for some transforms in the features set\n",
    "X_train[\"Rice Yield (kg/ha)\"] = y_train\n",
    "X_test[\"Rice Yield (kg/ha)\"] = y_test"
   ]
  },
  {
   "cell_type": "code",
   "execution_count": null,
   "id": "16ba66b4-65e8-4b66-b492-dbb8102a88a0",
   "metadata": {},
   "outputs": [],
   "source": [
    "print(X_train.shape, X_test.shape)"
   ]
  },
  {
   "cell_type": "code",
   "execution_count": null,
   "id": "266811f9-33d8-47b4-bbf0-2ec641baf98b",
   "metadata": {},
   "outputs": [],
   "source": [
    "#creating some aggrouped features\n",
    "group = [\"District\", \"Season(SA = Summer Autumn, WS = Winter Spring)\"]\n",
    "feature = \"Rice Yield (kg/ha)\"\n",
    "\n",
    "df_group = pd.DataFrame(X_train.groupby(group)[feature].mean().rename(f\"mean_{feature}\"))\n",
    "df_group = df_group.reset_index()\n",
    "X_train = X_train.merge(df_group, on=group, how=\"left\")\n",
    "X_test = X_test.merge(df_group, on=group, how=\"left\")\n",
    "\n",
    "df_group = pd.DataFrame(X_train.groupby(group)[feature].max().rename(f\"max_{feature}\"))\n",
    "df_group = df_group.reset_index()\n",
    "X_train = X_train.merge(df_group, on=group, how=\"left\")\n",
    "X_test = X_test.merge(df_group, on=group, how=\"left\")\n",
    "\n",
    "df_group = pd.DataFrame(X_train.groupby(group)[feature].min().rename(f\"min_{feature}\"))\n",
    "df_group = df_group.reset_index()\n",
    "X_train = X_train.merge(df_group, on=group, how=\"left\")\n",
    "X_test = X_test.merge(df_group, on=group, how=\"left\")\n",
    "\n",
    "df_group = pd.DataFrame(X_train.groupby(group)[feature].std().rename(f\"std_{feature}\"))\n",
    "df_group = df_group.reset_index()\n",
    "X_train = X_train.merge(df_group, on=group, how=\"left\")\n",
    "X_test = X_test.merge(df_group, on=group, how=\"left\")\n",
    "\n",
    "df_group = pd.DataFrame(X_train.groupby(group)[feature].var().rename(f\"var_{feature}\"))\n",
    "df_group = df_group.reset_index()\n",
    "X_train = X_train.merge(df_group, on=group, how=\"left\")\n",
    "X_test = X_test.merge(df_group, on=group, how=\"left\")\n",
    "\n",
    "df_group = pd.DataFrame(X_train.groupby(group)[feature].median().rename(f\"median_{feature}\"))\n",
    "df_group = df_group.reset_index()\n",
    "X_train = X_train.merge(df_group, on=group, how=\"left\")\n",
    "X_test = X_test.merge(df_group, on=group, how=\"left\")\n",
    "\n",
    "df_group = pd.DataFrame(X_train.groupby(group)[feature].quantile(0.25).rename(f\"q25_{feature}\"))\n",
    "df_group = df_group.reset_index()\n",
    "X_train = X_train.merge(df_group, on=group, how=\"left\")\n",
    "X_test = X_test.merge(df_group, on=group, how=\"left\")\n",
    "\n",
    "df_group = pd.DataFrame(X_train.groupby(group)[feature].quantile(0.5).rename(f\"q5_{feature}\"))\n",
    "df_group = df_group.reset_index()\n",
    "X_train = X_train.merge(df_group, on=group, how=\"left\")\n",
    "X_test = X_test.merge(df_group, on=group, how=\"left\")\n",
    "\n",
    "df_group = pd.DataFrame(X_train.groupby(group)[feature].quantile(0.75).rename(f\"q75_{feature}\"))\n",
    "df_group = df_group.reset_index()\n",
    "X_train = X_train.merge(df_group, on=group, how=\"left\")\n",
    "X_test = X_test.merge(df_group, on=group, how=\"left\")\n",
    "\n",
    "print(X_train.shape, X_test.shape)"
   ]
  },
  {
   "cell_type": "code",
   "execution_count": null,
   "id": "a715b571-3458-48bc-aeb5-41a38cccbfe8",
   "metadata": {},
   "outputs": [],
   "source": [
    "#selecting the final features for the model\n",
    "#NOTE: These features were selected after an intensive feature selection process that is not here\n",
    "final_features = ['mean_Rice Yield (kg/ha)',\n",
    " 'median_Rice Yield (kg/ha)',\n",
    " 'q5_Rice Yield (kg/ha)']\n",
    "\n",
    "X_train = X_train[final_features]\n",
    "X_test = X_test[final_features]"
   ]
  },
  {
   "cell_type": "code",
   "execution_count": null,
   "id": "9dbcc4b1-5fa7-429d-b850-c1249d406a2e",
   "metadata": {},
   "outputs": [],
   "source": [
    "#initializing the LGBM model with the best parameters found\n",
    "#NOTE: These parameters were found after a RandomizedSearch process that is not here.\n",
    "params = {'reg_lambda': 10,\n",
    " 'reg_alpha': 10,\n",
    " 'num_leaves': 61,\n",
    " 'n_estimators': 500,\n",
    " 'min_child_samples': 30,\n",
    " 'max_depth': 10,\n",
    " 'learning_rate': 0.005,\n",
    " 'colsample_bytree': 0.7}\n",
    "\n",
    "model = LGBMRegressor(**params)\n",
    "model.fit(X_train, y_train)"
   ]
  },
  {
   "cell_type": "code",
   "execution_count": null,
   "id": "8a0059b4-b3dd-4439-9a09-6a11e33266cb",
   "metadata": {},
   "outputs": [],
   "source": [
    "#generating the predictions for the train set\n",
    "y_pred_train = model.predict(X_train)"
   ]
  },
  {
   "cell_type": "code",
   "execution_count": null,
   "id": "4e929aa9-4655-4dd6-a8f3-77ad5945d239",
   "metadata": {},
   "outputs": [],
   "source": [
    "#checking the r2 for the training set because overfitting was the main problem\n",
    "r2_train = r2_score(y_train, y_pred_train)\n",
    "print(f\"r2 on train data: {r2_train}\")"
   ]
  },
  {
   "cell_type": "code",
   "execution_count": null,
   "id": "5faed08d-8f80-4b88-adba-e1ee4ecd925e",
   "metadata": {},
   "outputs": [],
   "source": [
    "#generating predictions for the test set\n",
    "y_pred_test = model.predict(X_test)"
   ]
  },
  {
   "cell_type": "code",
   "execution_count": null,
   "id": "0d50b102-d819-4e8c-8d38-54c3d1861736",
   "metadata": {},
   "outputs": [],
   "source": [
    "#check the r2 score for the test set to compare it with train\n",
    "r2_test = r2_score(y_test, y_pred_test)\n",
    "print(f\"r2 on train data: {r2_test}\")"
   ]
  },
  {
   "cell_type": "markdown",
   "id": "cc18129f-91fe-43cf-b9f9-53e102f9a947",
   "metadata": {
    "tags": []
   },
   "source": [
    "# Submission"
   ]
  },
  {
   "cell_type": "code",
   "execution_count": null,
   "id": "e6af4757-e27b-4a1e-81d8-915f4c679cac",
   "metadata": {},
   "outputs": [],
   "source": [
    "#loading the submission file template\n",
    "test_file = pd.read_csv(\"./data/Challenge_2_submission_template.csv\")\n",
    "test_file.head()"
   ]
  },
  {
   "cell_type": "code",
   "execution_count": null,
   "id": "50f38bb0-eb37-458c-8f3a-795bdb600815",
   "metadata": {},
   "outputs": [],
   "source": [
    "#generating the features for this set\n",
    "group = [\"District\", \"Season(SA = Summer Autumn, WS = Winter Spring)\"]\n",
    "feature = \"Rice Yield (kg/ha)\"\n",
    "\n",
    "df_group = pd.DataFrame(X_train.groupby(group)[feature].mean().rename(f\"mean_{feature}\"))\n",
    "df_group = df_group.reset_index()\n",
    "X_train = X_train.merge(df_group, on=group, how=\"left\")\n",
    "test_file = test_file.merge(df_group, on=group, how=\"left\")\n",
    "\n",
    "df_group = pd.DataFrame(X_train.groupby(group)[feature].max().rename(f\"max_{feature}\"))\n",
    "df_group = df_group.reset_index()\n",
    "X_train = X_train.merge(df_group, on=group, how=\"left\")\n",
    "test_file = test_file.merge(df_group, on=group, how=\"left\")\n",
    "\n",
    "df_group = pd.DataFrame(X_train.groupby(group)[feature].min().rename(f\"min_{feature}\"))\n",
    "df_group = df_group.reset_index()\n",
    "X_train = X_train.merge(df_group, on=group, how=\"left\")\n",
    "test_file = test_file.merge(df_group, on=group, how=\"left\")\n",
    "\n",
    "df_group = pd.DataFrame(X_train.groupby(group)[feature].std().rename(f\"std_{feature}\"))\n",
    "df_group = df_group.reset_index()\n",
    "X_train = X_train.merge(df_group, on=group, how=\"left\")\n",
    "test_file = test_file.merge(df_group, on=group, how=\"left\")\n",
    "\n",
    "df_group = pd.DataFrame(X_train.groupby(group)[feature].var().rename(f\"var_{feature}\"))\n",
    "df_group = df_group.reset_index()\n",
    "X_train = X_train.merge(df_group, on=group, how=\"left\")\n",
    "test_file = test_file.merge(df_group, on=group, how=\"left\")\n",
    "\n",
    "df_group = pd.DataFrame(X_train.groupby(group)[feature].median().rename(f\"median_{feature}\"))\n",
    "df_group = df_group.reset_index()\n",
    "X_train = X_train.merge(df_group, on=group, how=\"left\")\n",
    "test_file = test_file.merge(df_group, on=group, how=\"left\")\n",
    "\n",
    "df_group = pd.DataFrame(X_train.groupby(group)[feature].quantile(0.25).rename(f\"q25_{feature}\"))\n",
    "df_group = df_group.reset_index()\n",
    "X_train = X_train.merge(df_group, on=group, how=\"left\")\n",
    "test_file = test_file.merge(df_group, on=group, how=\"left\")\n",
    "\n",
    "df_group = pd.DataFrame(X_train.groupby(group)[feature].quantile(0.5).rename(f\"q5_{feature}\"))\n",
    "df_group = df_group.reset_index()\n",
    "X_train = X_train.merge(df_group, on=group, how=\"left\")\n",
    "test_file = test_file.merge(df_group, on=group, how=\"left\")\n",
    "\n",
    "df_group = pd.DataFrame(X_train.groupby(group)[feature].quantile(0.75).rename(f\"q75_{feature}\"))\n",
    "df_group = df_group.reset_index()\n",
    "X_train = X_train.merge(df_group, on=group, how=\"left\")\n",
    "test_file = test_file.merge(df_group, on=group, how=\"left\")\n",
    "\n",
    "print(X_train.shape, test_file.shape)"
   ]
  },
  {
   "cell_type": "code",
   "execution_count": null,
   "id": "796e6fdd-5138-43a0-b6e0-0c38158bf67a",
   "metadata": {},
   "outputs": [],
   "source": [
    "#filtering only the final columns\n",
    "test_file = test_file[final_features]\n",
    "test_file.shape"
   ]
  },
  {
   "cell_type": "code",
   "execution_count": null,
   "id": "e674a035-ef28-4928-858f-20e3beadeb53",
   "metadata": {},
   "outputs": [],
   "source": [
    "#making the submission predictions\n",
    "y_submission = model.predict(test_file)"
   ]
  },
  {
   "cell_type": "code",
   "execution_count": null,
   "id": "3343edc5-4eb1-4034-b2dc-919f08b24ee1",
   "metadata": {},
   "outputs": [],
   "source": [
    "#reading the template submission file again - we will use this for the submission\n",
    "test_file = pd.read_csv(\"./data/Challenge_2_submission_template.csv\")\n",
    "test_file.head()"
   ]
  },
  {
   "cell_type": "code",
   "execution_count": null,
   "id": "ba1836ad-75dc-4b1e-8b60-bfd445904570",
   "metadata": {},
   "outputs": [],
   "source": [
    "#adding the column with the predictions\n",
    "test_file['Predicted Rice Yield (kg/ha)'] = y_submission\n",
    "test_file.head()"
   ]
  },
  {
   "cell_type": "code",
   "execution_count": null,
   "id": "1c16d192-6cab-43ca-a461-b2f0c09292ed",
   "metadata": {},
   "outputs": [],
   "source": [
    "# #saving the submission file\n",
    "# test_file.to_csv(\"challenge_2_submission_rice_crop_yield_prediction.csv\", index=False)"
   ]
  },
  {
   "cell_type": "code",
   "execution_count": null,
   "id": "47c61d9f-882b-44fb-9aa4-caf29b3c78fc",
   "metadata": {},
   "outputs": [],
   "source": []
  }
 ],
 "metadata": {
  "kernelspec": {
   "display_name": "Python 3 (ipykernel)",
   "language": "python",
   "name": "python3"
  },
  "language_info": {
   "codemirror_mode": {
    "name": "ipython",
    "version": 3
   },
   "file_extension": ".py",
   "mimetype": "text/x-python",
   "name": "python",
   "nbconvert_exporter": "python",
   "pygments_lexer": "ipython3",
   "version": "3.9.13"
  }
 },
 "nbformat": 4,
 "nbformat_minor": 5
}
